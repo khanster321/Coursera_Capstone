{
 "cells": [
  {
   "cell_type": "markdown",
   "metadata": {},
   "source": [
    "## Data"
   ]
  },
  {
   "cell_type": "markdown",
   "metadata": {},
   "source": [
    "Foursquare location data will be used to solve this problem. Knowing what type of venues are located in Toronto and comparing the venues located in Calgary or Zurich can enable us to better understand how the city is structured. Thereafter, we can use this to determine how much pollution is caused by these areas and from what. \n",
    "\n",
    "We will be also using car data in the city of Toronto and comparing that with the car data in Calgary and Zurich. This will demonstrate how many cars are present on average everyday and in which areas. We can measure the overall air pollution caused by the cars. Air pollution can also be measured from the factories and any other human source of greenhouse gases. As greenhouse gases occur naturally, but this will not be our concern. Only anthropogenic sources will be examined."
   ]
  },
  {
   "cell_type": "code",
   "execution_count": null,
   "metadata": {},
   "outputs": [],
   "source": []
  }
 ],
 "metadata": {
  "kernelspec": {
   "display_name": "Python 3",
   "language": "python",
   "name": "python3"
  },
  "language_info": {
   "codemirror_mode": {
    "name": "ipython",
    "version": 3
   },
   "file_extension": ".py",
   "mimetype": "text/x-python",
   "name": "python",
   "nbconvert_exporter": "python",
   "pygments_lexer": "ipython3",
   "version": "3.7.3"
  }
 },
 "nbformat": 4,
 "nbformat_minor": 2
}
