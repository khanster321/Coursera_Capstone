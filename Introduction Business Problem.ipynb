{
 "cells": [
  {
   "cell_type": "markdown",
   "metadata": {},
   "source": [
    "## Introduction/Business Problem"
   ]
  },
  {
   "cell_type": "markdown",
   "metadata": {},
   "source": [
    "The problem is pollution. A group of environmental scientists will be the audience and be shown how pollution in Toronto compares to one of the less polluted cities such as Calgary in Canada or even Zurich in Switzerland. They will be shown how the city of Toronto is structured compared to these cities and how can Toronto be restructured in a way which makes the city cleaner. What causes Toronto to be more polluted in comparison? Is it the location of certain places such as restaurants, factories? Or is it the amount of people living in one area? Also, the amount of cars in an area and what impact that has. These are just a few possibilities in which the team would like to research what causes Toronto to be more polluted than other cities. The team will present the findings to the group of environmental scientists and international organizations such as the International Panel for Climate Change (IPCC) in order for them to understand how pollution in major cities like Toronto work, and it can be reduced. "
   ]
  },
  {
   "cell_type": "code",
   "execution_count": null,
   "metadata": {},
   "outputs": [],
   "source": []
  }
 ],
 "metadata": {
  "kernelspec": {
   "display_name": "Python 3",
   "language": "python",
   "name": "python3"
  },
  "language_info": {
   "codemirror_mode": {
    "name": "ipython",
    "version": 3
   },
   "file_extension": ".py",
   "mimetype": "text/x-python",
   "name": "python",
   "nbconvert_exporter": "python",
   "pygments_lexer": "ipython3",
   "version": "3.7.3"
  }
 },
 "nbformat": 4,
 "nbformat_minor": 2
}
